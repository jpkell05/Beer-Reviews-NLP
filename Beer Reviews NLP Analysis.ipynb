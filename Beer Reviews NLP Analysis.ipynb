{
 "cells": [
  {
   "cell_type": "markdown",
   "metadata": {},
   "source": [
    "# Beer Reviews NLP\n",
    "\n",
    "In this notebook I am going to do some basic natural language processing on beer reviews. The main question to be answered is a fairly simple one. What are the most frequent descriptors, i.e. words that describe the taste, aroma, look, etc. of a beer, for the most popular beers. To answer this question I will be getting beer reviews for the 100 most rated beers on beeradvocate.com. To limit the amount of data to go through I will check out the 1000 most recent ratings for each beer (note that not all ratings include reviews so it will be significantly less than 1000 reviews for each beer).\n",
    "\n",
    "This analysis may give us some insight into what flavors or aromas people like most in their beer. But, I think a more interesting potential use of such an analysis is to try to figure out what flavor combinations haven't been used yet. There seems to always be a lot of demand for something new and different from craft beer drinkers. For example, check out this [article](https://www.forbes.com/sites/taranurin/2019/01/09/a-new-flagshipfebruary-campaign-aims-to-save-core-beer-brands-before-they-disappear/#e361fec50587) or this [article](https://vinepair.com/articles/hop-take-flagship-beers-failing/). So, ideally we could take popular flavors that haven't yet been combined in some interesting way and develop beers to fill that gap. Of course we would need to look at a lot more data than the 100 most popular beers to do this, but hopefully this notebook will show a bigger project would be worthwhile.  "
   ]
  },
  {
   "cell_type": "code",
   "execution_count": 1,
   "metadata": {},
   "outputs": [],
   "source": [
    "# Import required packages\n",
    "import numpy as np\n",
    "import pandas as pd\n",
    "from bs4 import BeautifulSoup\n",
    "import requests\n",
    "import nltk\n",
    "from nltk.corpus import PlaintextCorpusReader\n",
    "from nltk.corpus import stopwords\n",
    "from nltk.corpus import wordnet as wn\n",
    "import numpy\n",
    "import matplotlib.pyplot as plt\n",
    "%matplotlib inline\n",
    "import re"
   ]
  },
  {
   "cell_type": "code",
   "execution_count": 2,
   "metadata": {},
   "outputs": [],
   "source": [
    "# Get 100 Most Popular Beers\n",
    "popular_beers_url = requests.get('https://www.beeradvocate.com/lists/popular/').text\n",
    "popular_beer = BeautifulSoup(popular_beers_url, 'lxml')\n",
    "\n",
    "# Get Beers, Number of Reviews and Scores\n",
    "beer_list = [i.get_text() for i in popular_beer.find_all('b')]\n",
    "beer_list = beer_list[2:]\n",
    "\n",
    "top_beers = []\n",
    "for i in range(0, 100):\n",
    "    x = 3*i\n",
    "    x = beer_list[x:(x+3)]\n",
    "    top_beers.append(x)\n",
    "    \n",
    "# Get Breweries and Style for Beers\n",
    "breweries_and_style_data = [i.contents for i in popular_beer.find_all('span', {'class' : 'muted'})]\n",
    "\n",
    "breweries_list = []\n",
    "for i in range(1,101):\n",
    "    x = breweries_and_style_data[i][1].contents\n",
    "    breweries_list.append(x)\n",
    "breweries_list = [i[0] for i in breweries_list]\n",
    "\n",
    "beer_style_list = []\n",
    "for i in range(1,101):\n",
    "    x = breweries_and_style_data[i][3].contents\n",
    "    beer_style_list.append(x)\n",
    "beer_style_list = [i[0] for i in beer_style_list]\n",
    "\n",
    "# Get links to top 100 beers\n",
    "beer_links = [i.get('href') for i in popular_beer.find_all('a')]\n",
    "beer_links = [i for i in beer_links if type(i) == str and len(i)>7 and i[:7] == '/beer/p']\n",
    "beer_links = beer_links[:200:2]\n",
    "beer_links = ['https://www.beeradvocate.com'+i for i in beer_links]"
   ]
  },
  {
   "cell_type": "code",
   "execution_count": 3,
   "metadata": {},
   "outputs": [
    {
     "data": {
      "text/html": [
       "<div>\n",
       "<style scoped>\n",
       "    .dataframe tbody tr th:only-of-type {\n",
       "        vertical-align: middle;\n",
       "    }\n",
       "\n",
       "    .dataframe tbody tr th {\n",
       "        vertical-align: top;\n",
       "    }\n",
       "\n",
       "    .dataframe thead th {\n",
       "        text-align: right;\n",
       "    }\n",
       "</style>\n",
       "<table border=\"1\" class=\"dataframe\">\n",
       "  <thead>\n",
       "    <tr style=\"text-align: right;\">\n",
       "      <th></th>\n",
       "      <th>Beer Name</th>\n",
       "      <th>Number of Ratings</th>\n",
       "      <th>Score</th>\n",
       "      <th>Brewery</th>\n",
       "      <th>Style</th>\n",
       "      <th>Link</th>\n",
       "    </tr>\n",
       "  </thead>\n",
       "  <tbody>\n",
       "    <tr>\n",
       "      <th>0</th>\n",
       "      <td>Breakfast Stout</td>\n",
       "      <td>17,331</td>\n",
       "      <td>4.51</td>\n",
       "      <td>Founders Brewing Company</td>\n",
       "      <td>American Imperial Stout</td>\n",
       "      <td>https://www.beeradvocate.com/beer/profile/1199...</td>\n",
       "    </tr>\n",
       "    <tr>\n",
       "      <th>1</th>\n",
       "      <td>90 Minute IPA</td>\n",
       "      <td>16,072</td>\n",
       "      <td>4.27</td>\n",
       "      <td>Dogfish Head Craft Brewery</td>\n",
       "      <td>American Imperial IPA</td>\n",
       "      <td>https://www.beeradvocate.com/beer/profile/64/2...</td>\n",
       "    </tr>\n",
       "    <tr>\n",
       "      <th>2</th>\n",
       "      <td>Two Hearted Ale</td>\n",
       "      <td>15,076</td>\n",
       "      <td>4.27</td>\n",
       "      <td>Bell's Brewery - Eccentric Café &amp; General Store</td>\n",
       "      <td>American IPA</td>\n",
       "      <td>https://www.beeradvocate.com/beer/profile/287/...</td>\n",
       "    </tr>\n",
       "    <tr>\n",
       "      <th>3</th>\n",
       "      <td>Pliny The Elder</td>\n",
       "      <td>15,057</td>\n",
       "      <td>4.64</td>\n",
       "      <td>Russian River Brewing Company</td>\n",
       "      <td>American Imperial IPA</td>\n",
       "      <td>https://www.beeradvocate.com/beer/profile/863/...</td>\n",
       "    </tr>\n",
       "    <tr>\n",
       "      <th>4</th>\n",
       "      <td>Heady Topper</td>\n",
       "      <td>14,454</td>\n",
       "      <td>4.71</td>\n",
       "      <td>The Alchemist</td>\n",
       "      <td>New England IPA</td>\n",
       "      <td>https://www.beeradvocate.com/beer/profile/4631...</td>\n",
       "    </tr>\n",
       "  </tbody>\n",
       "</table>\n",
       "</div>"
      ],
      "text/plain": [
       "         Beer Name Number of Ratings Score  \\\n",
       "0  Breakfast Stout            17,331  4.51   \n",
       "1    90 Minute IPA            16,072  4.27   \n",
       "2  Two Hearted Ale            15,076  4.27   \n",
       "3  Pliny The Elder            15,057  4.64   \n",
       "4     Heady Topper            14,454  4.71   \n",
       "\n",
       "                                           Brewery                    Style  \\\n",
       "0                         Founders Brewing Company  American Imperial Stout   \n",
       "1                       Dogfish Head Craft Brewery    American Imperial IPA   \n",
       "2  Bell's Brewery - Eccentric Café & General Store             American IPA   \n",
       "3                    Russian River Brewing Company    American Imperial IPA   \n",
       "4                                    The Alchemist          New England IPA   \n",
       "\n",
       "                                                Link  \n",
       "0  https://www.beeradvocate.com/beer/profile/1199...  \n",
       "1  https://www.beeradvocate.com/beer/profile/64/2...  \n",
       "2  https://www.beeradvocate.com/beer/profile/287/...  \n",
       "3  https://www.beeradvocate.com/beer/profile/863/...  \n",
       "4  https://www.beeradvocate.com/beer/profile/4631...  "
      ]
     },
     "execution_count": 3,
     "metadata": {},
     "output_type": "execute_result"
    }
   ],
   "source": [
    "# Make dataframe for data\n",
    "df = pd.DataFrame(top_beers, columns = ['Beer Name', 'Number of Ratings', 'Score'])\n",
    "df['Brewery'] = breweries_list\n",
    "df['Style'] = beer_style_list\n",
    "df['Link'] = beer_links\n",
    "df.head()"
   ]
  },
  {
   "cell_type": "code",
   "execution_count": 4,
   "metadata": {},
   "outputs": [
    {
     "data": {
      "text/plain": [
       "\"\\nfor beer in df.index:\\n    \\n    #Make List of Links to Scrape\\n    first_thou = [i*25 for i in range(40)]\\n    first_thou_links = [df.Link[beer]+'?view=beer&sort=&start={}'.format(i) for i in first_thou]\\n\\n    #Scrape Reviews and Store in List\\n    review_text = []\\n    for j in first_thou_links:\\n        source = requests.get(j).text\\n        soup = BeautifulSoup(source, 'lxml')\\n        reviews = [i.get_text('\\n').split('\\n') for i in soup.find_all(id ='rating_fullview_content_2')]\\n        for i in reviews:\\n            if i[2][-1] == '%':\\n                x = [i[3]]\\n            elif len(i) == 7:\\n                x = [i[4]]\\n            else:\\n                x = [i[4]] + i[5:-4]\\n            review_text.append(x)\\n    \\n    #Write Reviews to text file\\n    beer_name = df['Beer Name'][beer].replace(' ', '_')\\n    with open('Beer_Reviews/{}.txt'.format(beer_name), 'w', encoding='UTF-8') as f:\\n        for l in review_text:\\n            for i in l:\\n                f.write(i+' ')\\n            f.write('\\n')   \\n\""
      ]
     },
     "execution_count": 4,
     "metadata": {},
     "output_type": "execute_result"
    }
   ],
   "source": [
    "# Code to Scrape Reviews !IMPORTANT NOTE!: Running this code will take approximately an hour\n",
    "'''\n",
    "for beer in df.index:\n",
    "    \n",
    "    #Make List of Links to Scrape\n",
    "    first_thou = [i*25 for i in range(40)]\n",
    "    first_thou_links = [df.Link[beer]+'?view=beer&sort=&start={}'.format(i) for i in first_thou]\n",
    "\n",
    "    #Scrape Reviews and Store in List\n",
    "    review_text = []\n",
    "    for j in first_thou_links:\n",
    "        source = requests.get(j).text\n",
    "        soup = BeautifulSoup(source, 'lxml')\n",
    "        reviews = [i.get_text('\\n').split('\\n') for i in soup.find_all(id ='rating_fullview_content_2')]\n",
    "        for i in reviews:\n",
    "            if i[2][-1] == '%':\n",
    "                x = [i[3]]\n",
    "            elif len(i) == 7:\n",
    "                x = [i[4]]\n",
    "            else:\n",
    "                x = [i[4]] + i[5:-4]\n",
    "            review_text.append(x)\n",
    "    \n",
    "    #Write Reviews to text file\n",
    "    beer_name = df['Beer Name'][beer].replace(' ', '_')\n",
    "    with open('Beer_Reviews/{}.txt'.format(beer_name), 'w', encoding='UTF-8') as f:\n",
    "        for l in review_text:\n",
    "            for i in l:\n",
    "                f.write(i+' ')\n",
    "            f.write('\\n')   \n",
    "'''"
   ]
  },
  {
   "cell_type": "code",
   "execution_count": 5,
   "metadata": {},
   "outputs": [],
   "source": [
    "# Make beer review text files into nltk corpus\n",
    "corpus_root = 'Beer_Reviews'\n",
    "wordlists = PlaintextCorpusReader(corpus_root, '.*')"
   ]
  },
  {
   "cell_type": "markdown",
   "metadata": {},
   "source": [
    "Now that we have a corpus of beer reviews we can go about answering the main question, i.e. what are the most common descriptive words used in reviews of the 100 most popular beers. To answer this we will need to filter out the non-descriptive words and then get counts of the words we have remaining. But first, I want to estimate how many reviews there are. Since the ratings are a fixed length, we should be able to filter those out and just keep the ratings that include reviews. Then we can count up how many we have left."
   ]
  },
  {
   "cell_type": "code",
   "execution_count": 6,
   "metadata": {},
   "outputs": [
    {
     "data": {
      "text/plain": [
       "['look: 4 | smell: 3.75 | taste: 4 | feel: 3.75 | overall: 3.75 Can’t believe the low ratings here. It is a unique floraly taste but very delightful. Not real hoppy so that may be the reason but a solid tasteful PA. \\xa0 \\r',\n",
       " 'look: 3.75 | smell: 3.25 | taste: 3 | feel: 3.25 | overall: 3.25 Medium light body with a very mild aroma. Theres apricot, some grass, and malt but aroma is mostly apricot.   Taste is a little dry, as well as tasting like dried apricots and just a bit sweet.  Not bad but also not too memorable \\xa0 \\r',\n",
       " 'look: 3.5 | smell: 2.5 | taste: 3 | feel: 3.5 | overall: 3.25 \\r',\n",
       " 'look: 3.75 | smell: 3 | taste: 3.5 | feel: 3.5 | overall: 3.5 When I opened the bottle, the beer smelled bad, like it was old. The taste was bitter . I liked all the other Magic Hat beers I have tried but this one was a real disappointment. \\xa0 \\r',\n",
       " 'look: 3.75 | smell: 3.75 | taste: 3.75 | feel: 3.5 | overall: 3.75 Pours to a cooper hue, but head and lacing disappear to quickly. Has an interesting, musty aroma and a crisp, fruity flavor. \\r']"
      ]
     },
     "execution_count": 6,
     "metadata": {},
     "output_type": "execute_result"
    }
   ],
   "source": [
    "# Each rating/review is on a new line so we can split the raw text by lines to seperate them\n",
    "raw_rating_list = wordlists.raw().split('\\n')\n",
    "raw_rating_list[:5]"
   ]
  },
  {
   "cell_type": "markdown",
   "metadata": {},
   "source": [
    "Here we have a list of the ratings and we need to filter out ratings that don't include a review, the third rating is an example of one we want to filter out. The rating can vary in length because the scores can have different lengths. But, anything longer than 70 characters long should include a review."
   ]
  },
  {
   "cell_type": "code",
   "execution_count": 7,
   "metadata": {},
   "outputs": [
    {
     "data": {
      "text/plain": [
       "23026"
      ]
     },
     "execution_count": 7,
     "metadata": {},
     "output_type": "execute_result"
    }
   ],
   "source": [
    "# Filter out ratings with no review\n",
    "raw_review_list = [i for i in raw_rating_list if len(i)>70]\n",
    "len(raw_review_list)"
   ]
  },
  {
   "cell_type": "markdown",
   "metadata": {},
   "source": [
    "So out of 100,000 ratings it looks like a bit less that a quarter include reviews. Now we can turn our attention to getting the frequency for the descriptors. Since we are only interested in descriptors we can start by filtering out words we do not want.  "
   ]
  },
  {
   "cell_type": "code",
   "execution_count": 8,
   "metadata": {},
   "outputs": [],
   "source": [
    "# Get list of stop words and make list of words used in the rating of the beers (which will by far be the most common words in the corpus)\n",
    "stop_words = set(stopwords.words('english')) \n",
    "rate_words = ['taste','smell','feel','overall','look']\n",
    "\n",
    "# Filter them out\n",
    "filter_words = [i.lower() for i in wordlists.words() if i.isalpha() and (not i.lower() in stop_words) and (not i.lower() in rate_words)]"
   ]
  },
  {
   "cell_type": "code",
   "execution_count": 9,
   "metadata": {},
   "outputs": [],
   "source": [
    "# Standardize words\n",
    "lemmatizer = nltk.WordNetLemmatizer()\n",
    "review_words = [lemmatizer.lemmatize(i) for i in filter_words]"
   ]
  },
  {
   "cell_type": "code",
   "execution_count": 10,
   "metadata": {},
   "outputs": [],
   "source": [
    "# Get list to filter any words that are not adjectives, adverbs, or nouns \n",
    "pos_tuples = nltk.pos_tag(set(review_words))\n",
    "pos_wanted = ['JJ', 'JJR', 'JJS', 'RB', 'RBR', 'RBS', 'NN', 'NNS', 'VBP']\n",
    "pos_wanted_words = []\n",
    "for i in pos_tuples:\n",
    "    if i[1] in pos_wanted:\n",
    "        pos_wanted_words.append(i[0])\n",
    "'''note: I have also included verbs because it turns out this POS tagger marks 'chocolate' as a verb, it may be worth trying other POS taggers'''"
   ]
  },
  {
   "cell_type": "code",
   "execution_count": 11,
   "metadata": {},
   "outputs": [],
   "source": [
    "# Filter words and make word frequency dictionary \n",
    "words_of_interest = [i for i in review_words if i in pos_wanted_words]\n",
    "fdist = nltk.FreqDist(words_of_interest)\n",
    "\n",
    "# Make a list of top 100 to make it sortable\n",
    "top_100_words = [(k,v) for k,v in fdist.items() if v>sorted(list(fdist.values()), reverse=True)[101]]"
   ]
  },
  {
   "cell_type": "markdown",
   "metadata": {},
   "source": [
    "Now that we have our word counts, let's see what the most frequent words are."
   ]
  },
  {
   "cell_type": "code",
   "execution_count": 12,
   "metadata": {},
   "outputs": [
    {
     "data": {
      "text/plain": [
       "[('beer', 20950),\n",
       " ('head', 12544),\n",
       " ('hop', 10635),\n",
       " ('malt', 10567),\n",
       " ('flavor', 8787),\n",
       " ('good', 8265),\n",
       " ('dark', 8261),\n",
       " ('nice', 7490),\n",
       " ('sweet', 6974),\n",
       " ('light', 6391),\n",
       " ('aroma', 6367),\n",
       " ('chocolate', 5976),\n",
       " ('well', 5852),\n",
       " ('carbonation', 5684),\n",
       " ('finish', 5591),\n",
       " ('great', 5454),\n",
       " ('bottle', 5351),\n",
       " ('medium', 5247),\n",
       " ('ipa', 5193),\n",
       " ('coffee', 5126),\n",
       " ('note', 4892),\n",
       " ('color', 4823),\n",
       " ('pours', 4782),\n",
       " ('little', 4702),\n",
       " ('glass', 4662),\n",
       " ('citrus', 4660),\n",
       " ('smooth', 4619),\n",
       " ('bit', 4590),\n",
       " ('caramel', 4571),\n",
       " ('bitter', 4562)]"
      ]
     },
     "execution_count": 12,
     "metadata": {},
     "output_type": "execute_result"
    }
   ],
   "source": [
    "# Check out the top 30\n",
    "sorted(top_100_words, reverse=True, key=lambda tup: tup[1])[:30]"
   ]
  },
  {
   "cell_type": "markdown",
   "metadata": {},
   "source": [
    "Most of this is to be expected. Clearly, we didn't filter out of everything that isn't of interest but there are several descriptors in this list of 30 terms and so we could gain some insight from it. For example, I am a little surpised to see chocolate and coffee are more frequent than citrus and caramel. I would associate chocolate and coffee mainly with stouts, whereas citrus and caramel would be associated more with pale ales. "
   ]
  },
  {
   "cell_type": "code",
   "execution_count": 13,
   "metadata": {},
   "outputs": [
    {
     "data": {
      "text/plain": [
       "20"
      ]
     },
     "metadata": {},
     "output_type": "display_data"
    },
    {
     "data": {
      "text/plain": [
       "38"
      ]
     },
     "metadata": {},
     "output_type": "display_data"
    }
   ],
   "source": [
    "stouts = [i for i in df.Style.values if 'Stout' in i]\n",
    "pale_ales = [i for i in df.Style.values if 'IPA' in i or 'Pale Ale' in i]\n",
    "display(len(stouts), len(pale_ales))"
   ]
  },
  {
   "cell_type": "markdown",
   "metadata": {},
   "source": [
    "Of the top 100 most rated beers, around 20 are stouts and around 38 are pale ales. Of course we pulled the same number of ratings for each beer, not reviews, so it may be that stouts are just reviewed more frequently even if they are on the whole a bit less popular. If we wanted to draw a conclusion then we would want to check on this. Of course, we could construct the text documents to have a standard number of reviews (perhaps I will do this next time).\n",
    "\n",
    "It is not surprising though to see that malt is one of the most common descriptors as it is one of the main ingredients of beer. Of course, malts can have a variety of flavors, so the term malt on its own isn't as informative as it would be if we had it in context. There are a couple ways to try to get some context. First, we can apply the concordance method to the review text for the term 'malt'. Then I will generate the bigrams for the term malt and get the frequency distribution for them. "
   ]
  },
  {
   "cell_type": "code",
   "execution_count": 14,
   "metadata": {},
   "outputs": [
    {
     "name": "stdout",
     "output_type": "stream",
     "text": [
      "Displaying 25 of 25 matches:\n",
      "a . Theres apricot , some grass , and malt but aroma is mostly apricot . Taste i\n",
      " a hint of apricot . Tastes of bready malt with just a faint fruitness , finishe\n",
      "s faintly of fruit , tastes mainly of malt and a little fruity sweetness . Not m\n",
      "e white head of bubbly foam . Smell : Malt , some citrus and fruitiness , and a \n",
      "fruity , almost like juice mixed with malt liquor . Balanced by hop bitterness a\n",
      "focus on the apricot and some caramel malt sweetness without much in the way of \n",
      "thing I tasted was apricot and bready malt with some sweet vanilla or caramel . \n",
      "weet , a faint hint of caramel , thin malt towards the end with a tart aftertast\n",
      "ot , so it ends up tasting like a bad malt soda . A brew of historical interest \n",
      "th minimal head . Smells of fruit and malt . Taste is fruity up front with hints\n",
      ": 3 . 75 | overall : 3 . 75 Smells of malt mostly with some faint fruity sweet s\n",
      "tasting some fruit along with a solid malt backbone with just the hint of hop bi\n",
      "ruity nose with stone fruit , toasted malt , lemon , floral , and perfume and ye\n",
      "T : fruity with stone fruit , toasted malt , lemons , floral , perfume , yeast ,\n",
      "verwhelming aroma , balanced Hops and malt easily drinkable . Was once regarded \n",
      "gent or sour . Some barley , a little malt lingers ... Kind of reminds me of a L\n",
      "rnold ' s with a little more citrus / malt flare and less grassy / pine . look :\n",
      " . good carb , fluffy head . smell is malt . taste is peaches and apricot , cara\n",
      "aste is peaches and apricot , caramel malt back end . not bitter at all . decent\n",
      "amel , mild spicy hops , and biscuity malt . The flavors are the same . The mout\n",
      "ght floral scent . Taste - Grainy dry malt with a light fruit sweetness of peach\n",
      " peaches . Medium body with a light - malt palate . Rather short . I find this \"\n",
      "ops that provided that great hops and malt balance . Mouth feel was a bit toward\n",
      "uth feel for the pale ale style . Odd malt or fruit initial taste that transitio\n",
      "ing to end . There is a light biscuit malt backbone with a dry , champagne like \n"
     ]
    }
   ],
   "source": [
    "# the nltk text object has useful methods\n",
    "review_text = nltk.text.Text(wordlists.words())\n",
    "review_text.concordance('malt')"
   ]
  },
  {
   "cell_type": "code",
   "execution_count": 15,
   "metadata": {},
   "outputs": [],
   "source": [
    "malt_bigrams = [i for i in nltk.bigrams(words_of_interest) if i[1] == 'malt']\n",
    "malt_bigram_fdist = nltk.FreqDist(malt_bigrams)"
   ]
  },
  {
   "cell_type": "code",
   "execution_count": 16,
   "metadata": {},
   "outputs": [
    {
     "data": {
      "text/plain": [
       "FreqDist({('caramel', 'malt'): 900, ('sweet', 'malt'): 890, ('bready', 'malt'): 382, ('hop', 'malt'): 340, ('dark', 'malt'): 333, ('chocolate', 'malt'): 327, ('coffee', 'malt'): 177, ('aroma', 'malt'): 165, ('light', 'malt'): 140, ('nice', 'malt'): 133, ...})"
      ]
     },
     "execution_count": 16,
     "metadata": {},
     "output_type": "execute_result"
    }
   ],
   "source": [
    "malt_bigram_fdist"
   ]
  },
  {
   "cell_type": "markdown",
   "metadata": {},
   "source": [
    "One last thing I want to check on regarding the most frequent descriptors is how often the word 'good' is preceded by a negation. This could be an issue with any of the words, but while it would be somewhat unusual to describe a beer as not malty in a review, it wouldn't be odd at all to describe a beer as not good.  "
   ]
  },
  {
   "cell_type": "code",
   "execution_count": 17,
   "metadata": {},
   "outputs": [
    {
     "data": {
      "text/plain": [
       "49"
      ]
     },
     "execution_count": 17,
     "metadata": {},
     "output_type": "execute_result"
    }
   ],
   "source": [
    "not_good = re.compile(r'not\\sgood|not\\svery\\sgood|not\\sso\\sgood|not\\sthat\\sgood').findall(wordlists.raw())\n",
    "len(not_good)"
   ]
  },
  {
   "cell_type": "markdown",
   "metadata": {},
   "source": [
    "While we found some instances of 'not good', and there are presumably more we didn't find, it appears unlikely to be a signifcant amount when compared to the total number.\n",
    "\n",
    "Now that we have answered the main question, there are a couple other things I want to check out. First let's look at the most common word pairs. "
   ]
  },
  {
   "cell_type": "code",
   "execution_count": 18,
   "metadata": {},
   "outputs": [
    {
     "name": "stdout",
     "output_type": "stream",
     "text": [
      "white head; tan head; pint glass; brown sugar; dark chocolate; dark\n",
      "brown; roasted malts; dark fruit; well balanced; amber color; roasted\n",
      "malt; dark fruits; Sierra Nevada; 12oz bottle; dry finish; west coast;\n",
      "taste feel; smell taste; imperial stout; taste overall\n"
     ]
    }
   ],
   "source": [
    "review_text.collocations()"
   ]
  },
  {
   "cell_type": "markdown",
   "metadata": {},
   "source": [
    "We saw above that 'dark' is a word very frequently used in reviews. Here we can see that it is often used in describing the taste of the beer and not just its appearance.\n",
    "\n",
    "Now I want to get a look at what fruit flavors or aromas are most common. To do this we will need to generate a list of fruit names, which I will do by using WordNet. "
   ]
  },
  {
   "cell_type": "code",
   "execution_count": 19,
   "metadata": {},
   "outputs": [],
   "source": [
    "# Get all edible fruit hyponyms (I'll go two levels deep, more may be advisable)\n",
    "fruit_hypo_list = []\n",
    "for i in wn.synset('edible_fruit.n.01').hyponyms():\n",
    "    fruit_hypo_list.append(i)\n",
    "    for j in i.hyponyms():\n",
    "        fruit_hypo_list.append(j)"
   ]
  },
  {
   "cell_type": "code",
   "execution_count": 20,
   "metadata": {},
   "outputs": [],
   "source": [
    "# Get names of fruit hyponyms\n",
    "fruit_names = []\n",
    "for i in fruit_hypo_list:\n",
    "    for lemma in i.lemmas():\n",
    "        fruit_names.append(lemma.name())\n",
    "\n",
    "# Get fruits in reviews\n",
    "fruits_in_reviews = [i for i in words_of_interest if i in fruit_names]\n",
    "\n",
    "# Get frequency counts of fruit words\n",
    "fruit_dist = nltk.FreqDist(fruits_in_reviews)"
   ]
  },
  {
   "cell_type": "code",
   "execution_count": 21,
   "metadata": {},
   "outputs": [
    {
     "data": {
      "text/plain": [
       "FreqDist({'citrus': 4660, 'orange': 3736, 'grapefruit': 2566, 'cherry': 1185, 'raisin': 1064, 'date': 993, 'banana': 935, 'lemon': 894, 'pineapple': 582, 'plum': 576, ...})"
      ]
     },
     "execution_count": 21,
     "metadata": {},
     "output_type": "execute_result"
    }
   ],
   "source": [
    "fruit_dist"
   ]
  },
  {
   "cell_type": "markdown",
   "metadata": {},
   "source": [
    "It looks like citrus is by far the most common fruit flavor/aroma. Let's plot the distribution of some of these terms in the review text using a lexical dispersion plot. Since the reviews for each beer are grouped together in the text, we should see some clusters of the fruit terms rather than an even distribution."
   ]
  },
  {
   "cell_type": "code",
   "execution_count": 22,
   "metadata": {},
   "outputs": [
    {
     "data": {
      "image/png": "[encoded data removed]",
      "text/plain": [
       "<Figure size 1008x432 with 1 Axes>"
      ]
     },
     "metadata": {
      "needs_background": "light"
     },
     "output_type": "display_data"
    }
   ],
   "source": [
    "plt.figure(figsize=(14,6))\n",
    "review_text.dispersion_plot(['orange', 'pineapple', 'apple', 'cherry', 'raisin', 'plum'])"
   ]
  },
  {
   "cell_type": "markdown",
   "metadata": {},
   "source": [
    "Here we can see that raisin and plum flavors often appear together, while either rarely show up together with pineapple. Maybe it's time someone made a beer with notes of pineapple and plum.\n",
    "\n",
    "#### Where to go from here...\n",
    "\n",
    "Based on what we have seen, I do think it could be interesting to do a much more comprehensive study of beer reviews. Besides increasing the number of beers we consider, and perhaps also how many reviews we gather, I think next time I get review data I will try to do it in a way that we can analyze how word usage has changed over time. We may be able to track various trends in beer flavors for instance. \n"
   ]
  },
  {
   "cell_type": "code",
   "execution_count": null,
   "metadata": {},
   "outputs": [],
   "source": []
  }
 ],
 "metadata": {
  "kernelspec": {
   "display_name": "Python 3",
   "language": "python",
   "name": "python3"
  },
  "language_info": {
   "codemirror_mode": {
    "name": "ipython",
    "version": 3
   },
   "file_extension": ".py",
   "mimetype": "text/x-python",
   "name": "python",
   "nbconvert_exporter": "python",
   "pygments_lexer": "ipython3",
   "version": "3.6.6"
  }
 },
 "nbformat": 4,
 "nbformat_minor": 2
}
